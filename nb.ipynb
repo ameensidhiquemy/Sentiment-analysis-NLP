{
  "nbformat": 4,
  "nbformat_minor": 0,
  "metadata": {
    "colab": {
      "name": "nb.ipynb",
      "provenance": [],
      "collapsed_sections": [],
      "authorship_tag": "ABX9TyMwFBHvtl14lcU+b7u9THst",
      "include_colab_link": true
    },
    "kernelspec": {
      "name": "python3",
      "display_name": "Python 3"
    }
  },
  "cells": [
    {
      "cell_type": "markdown",
      "metadata": {
        "id": "view-in-github",
        "colab_type": "text"
      },
      "source": [
        "<a href=\"https://colab.research.google.com/github/ameensidhiquemy/Sentiment-analysis-NLP/blob/master/nb.ipynb\" target=\"_parent\"><img src=\"https://colab.research.google.com/assets/colab-badge.svg\" alt=\"Open In Colab\"/></a>"
      ]
    },
    {
      "cell_type": "code",
      "metadata": {
        "id": "TYQ82cuSujWj"
      },
      "source": [
        "import numpy as np\n",
        "import pickle\n",
        "import collections\n",
        "import nltk.classify.util, nltk.metrics\n",
        "from nltk.classify import NaiveBayesClassifier, MaxentClassifier, SklearnClassifier\n",
        "import csv\n",
        "from sklearn import model_selection\n",
        "import pandas as pd\n",
        "import itertools\n",
        "import matplotlib.pyplot as plt\n",
        "from sklearn.metrics import confusion_matrix\n",
        "import random\n",
        "import itertools\n",
        "from nltk.collocations import BigramCollocationFinder\n",
        "from nltk.metrics import BigramAssocMeasures"
      ],
      "execution_count": null,
      "outputs": []
    },
    {
      "cell_type": "code",
      "metadata": {
        "id": "u-xBlB-Bur69",
        "outputId": "c688d03b-ef46-4c56-94fe-4426c04e5d13",
        "colab": {
          "base_uri": "https://localhost:8080/"
        }
      },
      "source": [
        "from google.colab import drive\n",
        "drive.mount('/content/drive')"
      ],
      "execution_count": null,
      "outputs": [
        {
          "output_type": "stream",
          "text": [
            "Mounted at /content/drive\n"
          ],
          "name": "stdout"
        }
      ]
    },
    {
      "cell_type": "code",
      "metadata": {
        "id": "yJIdlKFmuzym"
      },
      "source": [
        "#Finding the unigram representation\n",
        "from sklearn.feature_extraction.text import CountVectorizer\n",
        "vectorizer=CountVectorizer()"
      ],
      "execution_count": null,
      "outputs": []
    },
    {
      "cell_type": "code",
      "metadata": {
        "id": "IL6c35HavFOd"
      },
      "source": [
        "# loading cleaned training tweets\n",
        "with open('/content/drive/My Drive/a/sentiments/SentimentText_train.txt', 'rb') as f:\n",
        "    SentimentText = pickle.load(f)"
      ],
      "execution_count": null,
      "outputs": []
    },
    {
      "cell_type": "code",
      "metadata": {
        "id": "iGyR6z2MvKR-"
      },
      "source": [
        "X=vectorizer.fit_transform(SentimentText)\n",
        "train_data = pd.read_csv('/content/drive/My Drive/a/data/train.csv', encoding = 'ISO-8859-1')\n",
        "y = train_data['Sentiment']"
      ],
      "execution_count": null,
      "outputs": []
    },
    {
      "cell_type": "code",
      "metadata": {
        "id": "e5_tME55wV7p"
      },
      "source": [
        "#split into train and test with 80% train and 20% test\n",
        "from sklearn.model_selection import train_test_split\n",
        "X_train, X_test, y_train ,y_test = train_test_split(X,y,train_size = .8 , test_size = .2 , random_state = 0)"
      ],
      "execution_count": null,
      "outputs": []
    },
    {
      "cell_type": "code",
      "metadata": {
        "id": "jTHGE_GtwfrN",
        "outputId": "8d15380f-189d-4400-f6e4-723b7f908718",
        "colab": {
          "base_uri": "https://localhost:8080/"
        }
      },
      "source": [
        "# fitting the Naïve Bayes classifier to training data\n",
        "from sklearn.naive_bayes import MultinomialNB\n",
        "classifier = MultinomialNB()\n",
        "classifier.fit(X_train, y_train)"
      ],
      "execution_count": null,
      "outputs": [
        {
          "output_type": "execute_result",
          "data": {
            "text/plain": [
              "MultinomialNB(alpha=1.0, class_prior=None, fit_prior=True)"
            ]
          },
          "metadata": {
            "tags": []
          },
          "execution_count": 8
        }
      ]
    },
    {
      "cell_type": "code",
      "metadata": {
        "id": "nswy8hsAxEiQ",
        "outputId": "4aea4cb0-4f30-4ed7-edd4-00ce31df38d3",
        "colab": {
          "base_uri": "https://localhost:8080/"
        }
      },
      "source": [
        "# compute training score\n",
        "classifier.score(X_train,y_train)"
      ],
      "execution_count": null,
      "outputs": [
        {
          "output_type": "execute_result",
          "data": {
            "text/plain": [
              "0.821979972746934"
            ]
          },
          "metadata": {
            "tags": []
          },
          "execution_count": 10
        }
      ]
    },
    {
      "cell_type": "code",
      "metadata": {
        "id": "6ARjiv26xM7U",
        "outputId": "e85bcc2e-8b99-4d59-dfd3-2ba2a4ae3df9",
        "colab": {
          "base_uri": "https://localhost:8080/"
        }
      },
      "source": [
        "y_predicted = classifier.predict(X_test)\n",
        "# compute testing score\n",
        "classifier.score(X_test, y_test)"
      ],
      "execution_count": null,
      "outputs": [
        {
          "output_type": "execute_result",
          "data": {
            "text/plain": [
              "0.7537753775377538"
            ]
          },
          "metadata": {
            "tags": []
          },
          "execution_count": 12
        }
      ]
    },
    {
      "cell_type": "code",
      "metadata": {
        "id": "FdMNurgbxhww"
      },
      "source": [
        "# function to plot confusion matrix from official sklearn documentation\n",
        "# link - http://scikit-learn.org/stable/auto_examples/model_selection/plot_confusion_matrix.html\n",
        "def plot_confusion_matrix(cm, classes,\n",
        "                          normalize=False,\n",
        "                          title='Confusion matrix',\n",
        "                          cmap=plt.cm.Blues):\n",
        "    \"\"\"\n",
        "    This function prints and plots the confusion matrix.\n",
        "    Normalization can be applied by setting `normalize=True`.\n",
        "    \"\"\"\n",
        "    if normalize:\n",
        "        cm = cm.astype('float') / cm.sum(axis=1)[:, np.newaxis]\n",
        "        print(\"Normalized confusion matrix\")\n",
        "    else:\n",
        "        print('Confusion matrix, without normalization')\n",
        "\n",
        "    print(cm)\n",
        "\n",
        "    plt.imshow(cm, interpolation='nearest', cmap=cmap)\n",
        "    plt.title(title)\n",
        "    plt.colorbar()\n",
        "    tick_marks = np.arange(len(classes))\n",
        "    plt.xticks(tick_marks, classes, rotation=45)\n",
        "    plt.yticks(tick_marks, classes)\n",
        "\n",
        "    fmt = '.2f' if normalize else 'd'\n",
        "    thresh = cm.max() / 2.\n",
        "    for i, j in itertools.product(range(cm.shape[0]), range(cm.shape[1])):\n",
        "        plt.text(j, i, format(cm[i, j], fmt),\n",
        "                 horizontalalignment=\"center\",\n",
        "                 color=\"white\" if cm[i, j] > thresh else \"black\")\n",
        "\n",
        "    plt.tight_layout()\n",
        "    plt.ylabel('True label')\n",
        "    plt.xlabel('Predicted label')"
      ],
      "execution_count": null,
      "outputs": []
    },
    {
      "cell_type": "code",
      "metadata": {
        "id": "tQvYSTOgxrqu",
        "outputId": "93970e0d-7f6f-4894-e545-0658af11a9d4",
        "colab": {
          "base_uri": "https://localhost:8080/",
          "height": 710
        }
      },
      "source": [
        "# Computing confusion matrix\n",
        "matrix = confusion_matrix(y_test, y_predicted)\n",
        "np.set_printoptions(precision=2)\n",
        "\n",
        "# Plotting non-normalized confusion matrix\n",
        "plt.figure()\n",
        "plot_confusion_matrix(matrix, classes=[\"positive\", \"negative\"],\n",
        "                      title='Confusion matrix, without normalization')\n",
        "\n",
        "# Plotting normalized confusion matrix\n",
        "plt.figure()\n",
        "plot_confusion_matrix(matrix, classes=[\"positive\", \"negative\"], normalize=True,\n",
        "                      title='Normalized confusion matrix')\n",
        "\n",
        "plt.show()"
      ],
      "execution_count": null,
      "outputs": [
        {
          "output_type": "stream",
          "text": [
            "Confusion matrix, without normalization\n",
            "[[6272 2510]\n",
            " [2414 8802]]\n",
            "Normalized confusion matrix\n",
            "[[0.71 0.29]\n",
            " [0.22 0.78]]\n"
          ],
          "name": "stdout"
        },
        {
          "output_type": "display_data",
          "data": {
            "image/png": "[encoded data removed]",
            "text/plain": [
              "<Figure size 432x288 with 2 Axes>"
            ]
          },
          "metadata": {
            "tags": [],
            "needs_background": "light"
          }
        },
        {
          "output_type": "display_data",
          "data": {
            "image/png": "[encoded data removed]",
            "text/plain": [
              "<Figure size 432x288 with 2 Axes>"
            ]
          },
          "metadata": {
            "tags": [],
            "needs_background": "light"
          }
        }
      ]
    },
    {
      "cell_type": "markdown",
      "metadata": {
        "id": "mOwNEzijyvQH"
      },
      "source": [
        "USING BIGRAMS"
      ]
    },
    {
      "cell_type": "code",
      "metadata": {
        "id": "0onu24kEysWK"
      },
      "source": [
        "# Loading bigram representation  \n",
        "bigram=CountVectorizer(ngram_range=(1,2))"
      ],
      "execution_count": null,
      "outputs": []
    },
    {
      "cell_type": "code",
      "metadata": {
        "id": "aWXJCBKlzA39"
      },
      "source": [
        "with open('/content/drive/My Drive/a/sentiments/SentimentText_train.txt', 'rb') as f:\n",
        "    Text = pickle.load(f)"
      ],
      "execution_count": null,
      "outputs": []
    },
    {
      "cell_type": "code",
      "metadata": {
        "id": "ivFYKQFMzKql"
      },
      "source": [
        "X=bigram.fit_transform(Text)"
      ],
      "execution_count": null,
      "outputs": []
    },
    {
      "cell_type": "code",
      "metadata": {
        "id": "Ihb74OkrzRm7"
      },
      "source": [
        "train = pd.read_csv('/content/drive/My Drive/a/data/train.csv', encoding = 'ISO-8859-1')\n",
        "y = train['Sentiment']"
      ],
      "execution_count": null,
      "outputs": []
    },
    {
      "cell_type": "code",
      "metadata": {
        "id": "Y7L8xunKzikh"
      },
      "source": [
        "from sklearn.model_selection import train_test_split\n",
        "X_train, X_test, y_train ,y_test = train_test_split(X,y,train_size = .8 , test_size = .2 , random_state = 0)"
      ],
      "execution_count": null,
      "outputs": []
    },
    {
      "cell_type": "code",
      "metadata": {
        "id": "S_iEl358zqOh",
        "outputId": "0d527e56-d276-4fd2-c828-5d39356f337e",
        "colab": {
          "base_uri": "https://localhost:8080/"
        }
      },
      "source": [
        "from sklearn.naive_bayes import MultinomialNB\n",
        "classifier = MultinomialNB()\n",
        "classifier.fit(X, y)"
      ],
      "execution_count": null,
      "outputs": [
        {
          "output_type": "execute_result",
          "data": {
            "text/plain": [
              "MultinomialNB(alpha=1.0, class_prior=None, fit_prior=True)"
            ]
          },
          "metadata": {
            "tags": []
          },
          "execution_count": 21
        }
      ]
    },
    {
      "cell_type": "code",
      "metadata": {
        "id": "4T27cLJTzxni",
        "outputId": "fe41ce50-a185-4204-ec47-637ae010ec2b",
        "colab": {
          "base_uri": "https://localhost:8080/"
        }
      },
      "source": [
        "# training score\n",
        "classifier.score(X_train, y_train)"
      ],
      "execution_count": null,
      "outputs": [
        {
          "output_type": "execute_result",
          "data": {
            "text/plain": [
              "0.9352552162118238"
            ]
          },
          "metadata": {
            "tags": []
          },
          "execution_count": 22
        }
      ]
    },
    {
      "cell_type": "code",
      "metadata": {
        "id": "g3J71sMlz2ci",
        "outputId": "b8edc326-237c-484b-ea65-e250987a60c9",
        "colab": {
          "base_uri": "https://localhost:8080/"
        }
      },
      "source": [
        "y_predicted = classifier.predict(X_test)\n",
        "classifier.score(X_test, y_test)"
      ],
      "execution_count": null,
      "outputs": [
        {
          "output_type": "execute_result",
          "data": {
            "text/plain": [
              "0.9336433643364337"
            ]
          },
          "metadata": {
            "tags": []
          },
          "execution_count": 24
        }
      ]
    },
    {
      "cell_type": "code",
      "metadata": {
        "id": "Zoe5gVeD0UiW",
        "outputId": "5ea40b0d-ce8d-4c1e-e6fe-01e0c216adac",
        "colab": {
          "base_uri": "https://localhost:8080/",
          "height": 710
        }
      },
      "source": [
        "# Compute confusion matrix\n",
        "matrix = confusion_matrix(y_test, y_predicted)\n",
        "np.set_printoptions(precision=2)\n",
        "\n",
        "# non-normalized \n",
        "plt.figure()\n",
        "plot_confusion_matrix(matrix, classes=[\"positive\", \"negative\"],\n",
        "                      title='Confusion matrix, without normalization')\n",
        "\n",
        "# normalized\n",
        "plt.figure()\n",
        "plot_confusion_matrix(matrix, classes=[\"positive\", \"negative\"], normalize=True,\n",
        "                      title='Normalized confusion matrix')\n",
        "\n",
        "plt.show()"
      ],
      "execution_count": null,
      "outputs": [
        {
          "output_type": "stream",
          "text": [
            "Confusion matrix, without normalization\n",
            "[[ 8111   671]\n",
            " [  656 10560]]\n",
            "Normalized confusion matrix\n",
            "[[0.92 0.08]\n",
            " [0.06 0.94]]\n"
          ],
          "name": "stdout"
        },
        {
          "output_type": "display_data",
          "data": {
            "image/png": "[encoded data removed]",
            "text/plain": [
              "<Figure size 432x288 with 2 Axes>"
            ]
          },
          "metadata": {
            "tags": [],
            "needs_background": "light"
          }
        },
        {
          "output_type": "display_data",
          "data": {
            "image/png": "[encoded data removed]",
            "text/plain": [
              "<Figure size 432x288 with 2 Axes>"
            ]
          },
          "metadata": {
            "tags": [],
            "needs_background": "light"
          }
        }
      ]
    },
    {
      "cell_type": "markdown",
      "metadata": {
        "id": "pdGVn8__05Nn"
      },
      "source": [
        "USING BOTH UNIGRAMS AND BIGRAMS\n"
      ]
    },
    {
      "cell_type": "code",
      "metadata": {
        "id": "DISgxQRW0_FR"
      },
      "source": [
        "#unigram \n",
        "from sklearn.feature_extraction.text import CountVectorizer\n",
        "uni=CountVectorizer()\n",
        "\n",
        "#bigram  \n",
        "bi=CountVectorizer(ngram_range=(1,2))"
      ],
      "execution_count": null,
      "outputs": []
    },
    {
      "cell_type": "code",
      "metadata": {
        "id": "pUjgxHX01PJq"
      },
      "source": [
        "with open('/content/drive/My Drive/a/sentiments/SentimentText_train.txt', 'rb') as f:\n",
        "    Text = pickle.load(f)"
      ],
      "execution_count": null,
      "outputs": []
    },
    {
      "cell_type": "code",
      "metadata": {
        "id": "qeQYd9dK1SHX"
      },
      "source": [
        "X_uni = uni.fit_transform(SentimentText)\n",
        "X_bi = bi.fit_transform(SentimentText)"
      ],
      "execution_count": null,
      "outputs": []
    },
    {
      "cell_type": "code",
      "metadata": {
        "id": "6GmbuZtK1az5"
      },
      "source": [
        "from scipy.sparse import hstack \n",
        "X = hstack([X_uni , X_bi])"
      ],
      "execution_count": null,
      "outputs": []
    },
    {
      "cell_type": "code",
      "metadata": {
        "id": "l3KgWvHJ1g_E"
      },
      "source": [
        "train = pd.read_csv('/content/drive/My Drive/a/data/train.csv', encoding = 'ISO-8859-1')\n",
        "y = train['Sentiment']"
      ],
      "execution_count": null,
      "outputs": []
    },
    {
      "cell_type": "code",
      "metadata": {
        "id": "zdz60nez1t2-"
      },
      "source": [
        "\n",
        "X_train, X_test, y_train ,y_test = train_test_split(X,y,train_size = .8 , test_size = .2 , random_state = 0)"
      ],
      "execution_count": null,
      "outputs": []
    },
    {
      "cell_type": "code",
      "metadata": {
        "id": "W5UtYaHP10b3",
        "outputId": "debdcecf-0bec-41cd-f35b-f5e8e0d5a59c",
        "colab": {
          "base_uri": "https://localhost:8080/"
        }
      },
      "source": [
        "classifier = MultinomialNB()\n",
        "classifier.fit(X_train, y_train)"
      ],
      "execution_count": null,
      "outputs": [
        {
          "output_type": "execute_result",
          "data": {
            "text/plain": [
              "MultinomialNB(alpha=1.0, class_prior=None, fit_prior=True)"
            ]
          },
          "metadata": {
            "tags": []
          },
          "execution_count": 34
        }
      ]
    },
    {
      "cell_type": "code",
      "metadata": {
        "id": "ylBNr5Cw16QJ",
        "outputId": "01f05dcc-94b6-42e1-f8b6-d7f594ea2766",
        "colab": {
          "base_uri": "https://localhost:8080/"
        }
      },
      "source": [
        "#train score\n",
        "classifier.score(X_train,y_train)"
      ],
      "execution_count": null,
      "outputs": [
        {
          "output_type": "execute_result",
          "data": {
            "text/plain": [
              "0.9195159455438737"
            ]
          },
          "metadata": {
            "tags": []
          },
          "execution_count": 36
        }
      ]
    },
    {
      "cell_type": "code",
      "metadata": {
        "id": "7Xwr-owU19Mw",
        "outputId": "9df6ba09-9794-4bbf-ea20-edd3ebc727cc",
        "colab": {
          "base_uri": "https://localhost:8080/"
        }
      },
      "source": [
        "y_predicted = classifier.predict(X_test)\n",
        "# testing score\n",
        "classifier.score(X_test, y_test)"
      ],
      "execution_count": null,
      "outputs": [
        {
          "output_type": "execute_result",
          "data": {
            "text/plain": [
              "0.7695269526952695"
            ]
          },
          "metadata": {
            "tags": []
          },
          "execution_count": 37
        }
      ]
    },
    {
      "cell_type": "code",
      "metadata": {
        "id": "GO5l3RTC2MdP",
        "outputId": "0e3291c4-5cf5-49a1-8260-2e4a117ebb91",
        "colab": {
          "base_uri": "https://localhost:8080/",
          "height": 710
        }
      },
      "source": [
        "# Compute confusion matrix\n",
        "matrix = confusion_matrix(y_test, y_predicted)\n",
        "np.set_printoptions(precision=2)\n",
        "\n",
        "#non-normalized confusion matrix\n",
        "plt.figure()\n",
        "plot_confusion_matrix(matrix, classes=[\"positive\", \"negative\"],\n",
        "                      title='Confusion matrix, without normalization')\n",
        "\n",
        "# normalized confusion matrix\n",
        "plt.figure()\n",
        "plot_confusion_matrix(matrix, classes=[\"positive\", \"negative\"], normalize=True,\n",
        "                      title='Normalized confusion matrix')\n",
        "\n",
        "plt.show()"
      ],
      "execution_count": null,
      "outputs": [
        {
          "output_type": "stream",
          "text": [
            "Confusion matrix, without normalization\n",
            "[[6639 2143]\n",
            " [2466 8750]]\n",
            "Normalized confusion matrix\n",
            "[[0.76 0.24]\n",
            " [0.22 0.78]]\n"
          ],
          "name": "stdout"
        },
        {
          "output_type": "display_data",
          "data": {
            "image/png": "[encoded data removed]",
            "text/plain": [
              "<Figure size 432x288 with 2 Axes>"
            ]
          },
          "metadata": {
            "tags": [],
            "needs_background": "light"
          }
        },
        {
          "output_type": "display_data",
          "data": {
            "image/png": "[encoded data removed]",
            "text/plain": [
              "<Figure size 432x288 with 2 Axes>"
            ]
          },
          "metadata": {
            "tags": [],
            "needs_background": "light"
          }
        }
      ]
    },
    {
      "cell_type": "code",
      "metadata": {
        "id": "Ip8vNuLu2aO9"
      },
      "source": [
        ""
      ],
      "execution_count": null,
      "outputs": []
    }
  ]
}